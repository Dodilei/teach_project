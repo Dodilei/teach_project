{
 "cells": [
  {
   "cell_type": "code",
   "execution_count": 2,
   "metadata": {
    "scrolled": false
   },
   "outputs": [],
   "source": [
    "import jupyter_manim"
   ]
  },
  {
   "cell_type": "code",
   "execution_count": 108,
   "metadata": {},
   "outputs": [
    {
     "data": {
      "text/html": [
       "\n",
       "    <video\n",
       "      width=\"854\"\n",
       "      height=\"480\"\n",
       "      autoplay=\"autoplay\"\n",
       "      controls\n",
       "    >\n",
       "        <source src=\"media/videos/tmp_eu0vo3h/480p15/Shapes.mp4\" type=\"video/mp4\">\n",
       "    </video>\n",
       "    "
      ],
      "text/plain": [
       "<IPython.core.display.HTML object>"
      ]
     },
     "execution_count": 108,
     "metadata": {},
     "output_type": "execute_result"
    }
   ],
   "source": [
    "%%manim Shapes -l -n 20\n",
    "from manimlib.imports import *\n",
    "\n",
    "class Shapes(GraphScene):\n",
    "    CONFIG = {\n",
    "            \"x_min\": 0,\n",
    "            \"x_max\": 10,\n",
    "            \"x_axis_width\": 10,\n",
    "            \"x_tick_frequency\": 10,\n",
    "            \"x_leftmost_tick\": None, # Change if different from x_min\n",
    "            \"x_labeled_nums\": None,\n",
    "            \"x_axis_label\": \"\",\n",
    "            \"y_min\": 0,\n",
    "            \"y_max\": 6,\n",
    "            \"y_axis_height\": 6,\n",
    "            \"y_tick_frequency\": 10,\n",
    "            \"y_bottom_tick\": None, # Change if different from y_min\n",
    "            \"y_labeled_nums\": (1,2,3,4,5,6),\n",
    "            \"y_axis_label\": \"$q$\",\n",
    "            \"axes_color\": \"#cccccc\",\n",
    "            \"graph_origin\": 3 * DOWN + 5 * LEFT,\n",
    "            \"exclude_zero_label\": True,\n",
    "            \"num_graph_anchor_points\": 25,\n",
    "            \"default_graph_colors\": [BLUE, GREEN, YELLOW],\n",
    "            \"default_derivative_color\": GREEN,\n",
    "            \"default_input_color\": YELLOW,\n",
    "            \"default_riemann_start_color\": BLUE,\n",
    "            \"default_riemann_end_color\": GREEN,\n",
    "            \"area_opacity\": 0.8,\n",
    "            \"num_rects\": 50\n",
    "    }\n",
    "        \n",
    "    def construct(self):\n",
    "        \n",
    "        \n",
    "        self.setup_axes(animate = True)\n",
    "        self.wait(2)\n",
    "        \n",
    "        label_list = []\n",
    "        \n",
    "        c_group = VGroup(*self.stack_shapes(Circle, 3, BLUE, 1, radius=0.4))\n",
    "        \n",
    "        self.show_label(3, c_group, label_list)\n",
    "        \n",
    "        s_group = VGroup(*self.stack_shapes(Square, 5, PINK, 3, side_length=0.8))\n",
    "        \n",
    "        self.show_label(5, s_group, label_list)\n",
    "        \n",
    "        t_group = VGroup(*self.stack_shapes(Triangle, 2, GREEN, 5, custom_att = (lambda x: x.set_height(0.8))))\n",
    "        \n",
    "        self.show_label(2, t_group, label_list)\n",
    "\n",
    "        self.wait()\n",
    "        \n",
    "        t_group.add(t_group[0].copy())\n",
    "        t_group[-1].move_to(t_group[-1].get_center() + 2*UP)\n",
    "        \n",
    "        self.play(*[FadeOutAndShift(mobj, UP) for mobj in (s_group.submobjects[3:] + label_list)],\n",
    "                 FadeIn(t_group[-1]))\n",
    "        \n",
    "        \n",
    "    def stack_shapes(self, Shape, n, color, xpos, custom_att = (lambda x: None), **kwargs):\n",
    "        shapes = []\n",
    "        for i in range(n):\n",
    "            pair = (Shape(color=color, **kwargs), Shape(color=color, **kwargs))\n",
    "            pair[1].set_fill(color=color, opacity=0.5)\n",
    "\n",
    "            for s in pair:\n",
    "                s.move_to(self.graph_origin + (i+0.5)*UP + xpos*RIGHT)\n",
    "                custom_att(s)\n",
    "\n",
    "            shapes.append(pair)\n",
    "\n",
    "        for pair in shapes:\n",
    "            self.play(ShowCreation(pair[0]), run_time=0.5)\n",
    "            self.play(ReplacementTransform(pair[0], pair[1]), run_time=0.25)\n",
    "        \n",
    "        return (pair[1] for pair in shapes)\n",
    "    \n",
    "    def show_label(self, n, obj, lst = None):\n",
    "        \n",
    "        label = TextMobject(\"${}$\".format(n))\n",
    "        label.next_to(obj, UP)\n",
    "        self.play(Write(label))\n",
    "        \n",
    "        if lst != None:\n",
    "            lst.append(label)\n",
    "        else:\n",
    "            return label\n",
    "        \n",
    "        \n",
    "            \n",
    "        "
   ]
  }
 ],
 "metadata": {
  "kernelspec": {
   "display_name": "Python 3",
   "language": "python",
   "name": "python3"
  },
  "language_info": {
   "codemirror_mode": {
    "name": "ipython",
    "version": 3
   },
   "file_extension": ".py",
   "mimetype": "text/x-python",
   "name": "python",
   "nbconvert_exporter": "python",
   "pygments_lexer": "ipython3",
   "version": "3.7.7"
  }
 },
 "nbformat": 4,
 "nbformat_minor": 4
}
