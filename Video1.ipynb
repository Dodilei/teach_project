{
 "cells": [
  {
   "cell_type": "code",
   "execution_count": 1,
   "metadata": {},
   "outputs": [],
   "source": [
    "import jupyter_manim"
   ]
  },
  {
   "cell_type": "markdown",
   "metadata": {
    "scrolled": false
   },
   "source": [
    "%%manim NumbersOpening -l\n",
    "from manimlib.imports import *\n",
    "import math as mt\n",
    "\n",
    "np.random.seed(422)\n",
    "\n",
    "class NumbersOpening(Scene):\n",
    "    \n",
    "    def construct(self):\n",
    "        \n",
    "        nums_init = np.random.rand(60, 5)\n",
    "        nums_init[:, 2:4] += -0.5\n",
    "        nums_init[:, -1] = 0\n",
    "        nums_init[:, 1] += 0.8\n",
    "        nums_init[:, 1] = nums_init[:, 1]/2\n",
    "        \n",
    "        nums = VGroup()\n",
    "        for x in nums_init:\n",
    "            n = TextMobject(str(mt.trunc(x[0]*10)), height=x[1])\n",
    "            n.move_to(x[2:]*np.array((12,6,1)))\n",
    "            nums.add(n)\n",
    "            \n",
    "        for n in nums:\n",
    "            for n2 in nums:\n",
    "                if n==n2: continue\n",
    "                if (np.abs(n.get_center() - n2.get_center()) <= np.abs(np.array([(n.height + n2.height)/2]*2 + [0]))).all():\n",
    "                    nums.remove(n)\n",
    "        \n",
    "        centers = []\n",
    "        for i, sub in enumerate(nums[::5]):\n",
    "            subgroup = VGroup(nums[i*5:(i+1)*5])\n",
    "            centers.append(subgroup.get_center())\n",
    "        \n",
    "        player = []\n",
    "        for i, n in enumerate(nums):\n",
    "            player.append(GrowFromPoint(n, centers[i % mt.trunc(len(nums)/5)]))\n",
    "        \n",
    "        for i, p in enumerate(player[::5]):\n",
    "            self.play(*player[i*5:(i+1)*5])\n",
    "        \n",
    "        self.wait()\n",
    "        \n",
    "        self.play(FadeOut(nums))\n",
    "        \n",
    "            "
   ]
  },
  {
   "cell_type": "markdown",
   "metadata": {
    "scrolled": true
   },
   "source": [
    "%%manim NumeralSystems -l\n",
    "from manimlib.imports import *\n",
    "\n",
    "class NumeralSystems(Scene):\n",
    "    \n",
    "    def construct(self):\n",
    "        \n",
    "        tally = VGroup(*[VGroup(*[Line(i*0.1*RIGHT, 0.508*DOWN+i*0.1*RIGHT) for i in range(n)]) for n in range(1,5)])\n",
    "        tally.add(VGroup(*[Line(i*0.1*RIGHT, 0.5*DOWN+i*0.1*RIGHT) for i in range(4)], Line((0.5,0,0), 0.508*DOWN+(-0.2,0,0))))\n",
    "        tally.to_edge(UP, buff=1.2)\n",
    "        tally.move_to(tally.get_center() + LEFT*6)\n",
    "        for i in range(1, len(tally)): tally[i].next_to(tally[i-1], DOWN*2)\n",
    "            \n",
    "        self.play(Write(tally), run_time=5)\n",
    "        \n",
    "        \n",
    "        roman = VGroup(*[TextMobject(text, height=0.5, color=RED) for text in [\"I\", \"II\", \"III\", \"IV\", \"V\"]])\n",
    "\n",
    "        roman.next_to(tally, RIGHT*6)\n",
    "        roman.to_edge(UP, buff=1.2)\n",
    "        for i in range(1, len(roman)): roman[i].next_to(roman[i-1], DOWN*2)\n",
    "            \n",
    "        self.play(Write(roman), run_time=5)\n",
    "        \n",
    "        \n",
    "        chine = VGroup(*[TextMobject(text, width=11.5, color=YELLOW) for text in [\"\\\\cjk{一}\", \"\\\\cjk{二}\", \"\\\\cjk{三}\", \"\\\\cjk{四}\", \"\\\\cjk{五}\"]])\n",
    "\n",
    "        chine.next_to(roman, RIGHT*6)\n",
    "        chine.to_edge(UP, buff=1.15)\n",
    "        for i in range(1, len(chine)): chine[i].next_to(chine[i-1], DOWN*(2.648-i/5))\n",
    "            \n",
    "        self.play(Write(chine), run_time=5)\n",
    "        \n",
    "        "
   ]
  },
  {
   "cell_type": "code",
   "execution_count": 2,
   "metadata": {
    "scrolled": false
   },
   "outputs": [
    {
     "data": {
      "text/html": [
       "\n",
       "    <video\n",
       "      width=\"854\"\n",
       "      height=\"480\"\n",
       "      autoplay=\"autoplay\"\n",
       "      controls\n",
       "    >\n",
       "        <source src=\"media/videos/tmpdyp805sx/480p15/Llamas.mp4\" type=\"video/mp4\">\n",
       "    </video>\n",
       "    "
      ],
      "text/plain": [
       "<IPython.core.display.HTML object>"
      ]
     },
     "execution_count": 2,
     "metadata": {},
     "output_type": "execute_result"
    }
   ],
   "source": [
    "%%manim Llamas -l\n",
    "from manimlib.imports import *\n",
    "\n",
    "from llama import Llama\n",
    "from c_adder import color_adder\n",
    "\n",
    "import sheperd\n",
    "from importlib import reload\n",
    "Sheperd = reload(sheperd).Sheperd\n",
    "\n",
    "class Llamas(Scene):\n",
    "    \n",
    "    def construct(self):\n",
    "        \n",
    "        sheperd = Sheperd(color = \"#bbbbbb\", height = 2.2, stroke_width = 1.5, stroke_opacity = 1)\n",
    "        sheperd.move_to(LEFT*1.8+DOWN*1.8)\n",
    "        self.play(FadeIn(sheperd))\n",
    "        \n",
    "        \n",
    "        llamas = Llama.create_llama_herd(15, 3, 3, 1.7, pos_set = [10,10], size_set=3)\n",
    "        llamas.to_corner(DL, buff=0.5)\n",
    "        self.play(Write(llamas), run_time=5)\n",
    "        \n",
    "        bubble, *animations = sheperd.think()\n",
    "        self.play(*animations, run_time=3)\n",
    "        \n",
    "        self.wait()\n",
    "        \n",
    "        return {\"sheperd\": sheperd, \"llamas\": llamas, \"bubble\": bubble}\n"
   ]
  },
  {
   "cell_type": "code",
   "execution_count": 3,
   "metadata": {
    "scrolled": true
   },
   "outputs": [
    {
     "data": {
      "text/html": [
       "\n",
       "    <video\n",
       "      width=\"854\"\n",
       "      height=\"480\"\n",
       "      autoplay=\"autoplay\"\n",
       "      controls\n",
       "    >\n",
       "        <source src=\"media/videos/tmpizxwhyf5/480p15/CountLlamas.mp4\" type=\"video/mp4\">\n",
       "    </video>\n",
       "    "
      ],
      "text/plain": [
       "<IPython.core.display.HTML object>"
      ]
     },
     "execution_count": 3,
     "metadata": {},
     "output_type": "execute_result"
    }
   ],
   "source": [
    "%%manim CountLlamas -l\n",
    "from manimlib.imports import *\n",
    "from mylight import Light as LightFont\n",
    "\n",
    "class CountLlamas(Scene):\n",
    "    \n",
    "    def construct(self, llamas = None):\n",
    "        \n",
    "        last_dict = Llamas.construct(self)\n",
    "        llamas = last_dict[\"llamas\"]\n",
    "        bubble = last_dict[\"bubble\"]\n",
    "        self.play(FadeOut(bubble.content[0]))\n",
    "        bubble.content = []\n",
    "        self.play(FadeIn(bubble.add_content(TextMobject(\"Números!\", color = WHITE))))\n",
    "        self.wait()\n",
    "        \n",
    "        labels = VGroup()\n",
    "        for index, llama in enumerate(llamas):\n",
    "            shadow = LightFont(radius = 0.25, n = 100, color = BLACK)\n",
    "            label = TextMobject(str(index+1), height = 0.3, color = \"#5090ff\")\n",
    "            label.set_stroke(color = WHITE, opacity = 1, width = 1.5, background = True)\n",
    "            label.next_to(llama, UP*0.35)\n",
    "            label.shift(RIGHT*0.5)\n",
    "            shadow.move_to(label.get_center())\n",
    "            last_bubble_number = bubble.content[0]\n",
    "            bubble.content = []\n",
    "            self.play(ReplacementTransform(last_bubble_number, bubble.add_content(TextMobject(str(index+1), color = WHITE))), FadeIn(shadow), Write(label), run_time = 0.39-(index*0.01))\n",
    "            labels.add(VGroup(label, shadow))\n",
    "        \n",
    "        self.wait()\n",
    "        \n",
    "        return dict(last_dict, **{\"labels\": labels})\n",
    "            \n"
   ]
  },
  {
   "cell_type": "code",
   "execution_count": 25,
   "metadata": {
    "scrolled": false
   },
   "outputs": [
    {
     "data": {
      "text/html": [
       "\n",
       "    <video\n",
       "      width=\"854\"\n",
       "      height=\"480\"\n",
       "      autoplay=\"autoplay\"\n",
       "      controls\n",
       "    >\n",
       "        <source src=\"media/videos/tmpyfulke1k/480p15/LlamasToCircles.mp4\" type=\"video/mp4\">\n",
       "    </video>\n",
       "    "
      ],
      "text/plain": [
       "<IPython.core.display.HTML object>"
      ]
     },
     "execution_count": 25,
     "metadata": {},
     "output_type": "execute_result"
    }
   ],
   "source": [
    "%%manim LlamasToCircles -l\n",
    "from manimlib.imports import *\n",
    "\n",
    "class LlamasToCircles(Scene):\n",
    "    \n",
    "    def construct(self, llamas = None):\n",
    "        '''\n",
    "        last_dict = CountLlamas.construct(self)\n",
    "        labels = last_dict[\"labels\"]\n",
    "        llamas = last_dict[\"llamas\"]\n",
    "        sheperd = last_dict[\"sheperd\"]\n",
    "        bubble = last_dict[\"bubble\"]\n",
    "        '''\n",
    "        #self.remove(*[m for m in self.mobjects if m not in [labels, bubble, bubble.content, sheperd, llamas]])\n",
    "        #self.play(*[FadeOutAndShift(m, direction=DOWN) for m in [sheperd, bubble, bubble.content]], FadeOut(labels))\n",
    "        \n",
    "        n, m = 3, 5\n",
    "        circles = VGroup()\n",
    "        for g in range(n):\n",
    "            csub = VGroup(*[Circle(radius = 0.3,\n",
    "                                   color = BLUE,\n",
    "                                   stroke_color = \"#3070ef\",\n",
    "                                   fill_opacity = 1\n",
    "                                  ) for i in range(m)\n",
    "                           ]\n",
    "                         )\n",
    "            \n",
    "            [csub[i+1].next_to(csub[i], LEFT*1.5) for i in range(m-1)]\n",
    "            \n",
    "            csub.move_to(ORIGIN)\n",
    "            if g == 0:\n",
    "                csub.to_edge(UP, buff=1.2)\n",
    "            else:\n",
    "                csub.next_to(circles[g-1], DOWN)\n",
    "            \n",
    "            circles.add(csub)\n",
    "            \n",
    "\n",
    "        self.add(circles)\n",
    "        #self.play(ReplacementTransform(llamas, circles), run_time = 5)\n",
    "        \n",
    "        brace = Brace(circles, DOWN)\n",
    "        self.play(Write(brace))\n",
    "        \n",
    "        total = Integer(15, height = 0.5)\n",
    "        total.shift(DOWN*0.5)\n",
    "        self.play(Write(total))\n",
    "        \n",
    "        text = TextMobject(\"Quantidade, tamanho, magnitude, escala.\")\n",
    "        text.shift(DOWN*1.5)\n",
    "        self.play(Write(text), run_time = 2)\n",
    "        self.play(text.set_color_by_tex, \"escala\", YELLOW)\n",
    "        \n"
   ]
  },
  {
   "cell_type": "code",
   "execution_count": 11,
   "metadata": {},
   "outputs": [
    {
     "data": {
      "text/html": [
       "\n",
       "    <video\n",
       "      width=\"854\"\n",
       "      height=\"480\"\n",
       "      autoplay=\"autoplay\"\n",
       "      controls\n",
       "    >\n",
       "        <source src=\"media/videos/tmpcnvzgey7/480p15/LlamaToCircle.mp4\" type=\"video/mp4\">\n",
       "    </video>\n",
       "    "
      ],
      "text/plain": [
       "<IPython.core.display.HTML object>"
      ]
     },
     "execution_count": 11,
     "metadata": {},
     "output_type": "execute_result"
    }
   ],
   "source": [
    "%%manim LlamaToCircle -l\n",
    "from manimlib.imports import *\n",
    "from llama import Llama\n",
    "\n",
    "class LlamaToCircle(Scene):\n",
    "    \n",
    "    def construct(self, llamas = None):\n",
    "        \n",
    "        llama = Llama(height = 2)\n",
    "        \n",
    "        circle = Circle(\n",
    "                    radius = 0.3,\n",
    "                    color = \"#c86bff\",\n",
    "                    stroke_color = \"#9f00ff\",\n",
    "                    fill_opacity = 1\n",
    "                    )\n",
    "        \n",
    "        self.play(ReplacementTransform(VGroup(llama), circle), run_time = 5)"
   ]
  },
  {
   "cell_type": "markdown",
   "metadata": {
    "scrolled": true
   },
   "source": [
    "%%manim Scenes -l\n",
    "\n",
    "class Scenes(Scene):\n",
    "    \n",
    "    def construct(self):\n",
    "        \n",
    "        Scene1.construct(self)\n",
    "        Scene2.construct(self)\n",
    "        "
   ]
  }
 ],
 "metadata": {
  "kernelspec": {
   "display_name": "Python 3",
   "language": "python",
   "name": "python3"
  },
  "language_info": {
   "codemirror_mode": {
    "name": "ipython",
    "version": 3
   },
   "file_extension": ".py",
   "mimetype": "text/x-python",
   "name": "python",
   "nbconvert_exporter": "python",
   "pygments_lexer": "ipython3",
   "version": "3.7.7"
  }
 },
 "nbformat": 4,
 "nbformat_minor": 4
}
